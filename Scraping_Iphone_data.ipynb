{
 "cells": [
  {
   "cell_type": "code",
   "execution_count": 1,
   "id": "4095b8fc",
   "metadata": {},
   "outputs": [],
   "source": [
    "# Import the important libraries\n",
    "\n",
    "from bs4 import BeautifulSoup\n",
    "import requests\n",
    "import pandas as pd"
   ]
  },
  {
   "cell_type": "code",
   "execution_count": 5,
   "id": "b4705a01",
   "metadata": {},
   "outputs": [],
   "source": [
    "# Funtions to extract the title\n",
    "def get_title(soup):\n",
    "    try:\n",
    "        title = new_soup.find(\"span\", attrs = {\"id\" : \"productTitle\"}).text.strip()\n",
    "    except AttributeError:\n",
    "        title = \"\"\n",
    "    return title\n",
    "\n",
    "# Funtions to extract the price\n",
    "def get_price(soup):\n",
    "    try:\n",
    "        price = new_soup.find(\"span\", attrs = {\"class\" : \"a-price-whole\"}).text.strip('.')\n",
    "    except AttributeError:\n",
    "        price = \"\"\n",
    "    return price\n",
    "\n",
    "# Funtions to extract the rating\n",
    "def get_rating(soup):\n",
    "    try:\n",
    "        rating = new_soup.find(\"span\", attrs = {\"class\" : \"a-icon-alt\"}).text.split(' ')[0]\n",
    "    except AttributeError:\n",
    "        rating = \"\"\n",
    "    return rating\n",
    "\n",
    "# Funtions to extract the product_avail\n",
    "def get_avail(soup):\n",
    "    try:\n",
    "        avail= new_soup.find(\"span\", attrs = {\"class\" : \"a-size-medium a-color-success\"}).text.strip()\n",
    "    except AttributeError:\n",
    "        avail = \"Not_avalaible\"\n",
    "    return avail"
   ]
  },
  {
   "cell_type": "code",
   "execution_count": 6,
   "id": "6a18409d",
   "metadata": {},
   "outputs": [],
   "source": [
    "# Getting the Iphone - products URL\n",
    "\n",
    "URL = 'https://www.amazon.in/s?k=iphone+14&crid=X8BVOH5AHJW&sprefix=iphone%2Caps%2C804&ref=nb_sb_ss_ts-doa-p_1_6'\n",
    "    \n",
    "HEADERS = ({'User-Agent':'Mozilla/5.0 (Windows NT 10.0; Win64; x64) AppleWebKit/537.36 (KHTML, like Gecko) Chrome/112.0.0.0 Safari/537.36', 'Accept-Language' : 'en-US, en:q = 0.5'})\n",
    "    \n",
    "webpage = requests.get(URL, headers = HEADERS)"
   ]
  },
  {
   "cell_type": "code",
   "execution_count": 7,
   "id": "d573e9a0",
   "metadata": {},
   "outputs": [],
   "source": [
    "soup = BeautifulSoup(webpage.content, \"html.parser\")"
   ]
  },
  {
   "cell_type": "code",
   "execution_count": 8,
   "id": "00fa00a3",
   "metadata": {},
   "outputs": [],
   "source": [
    "# Fetch all product links\n",
    "\n",
    "links = soup.find_all(\"a\", attrs = {\"class\" : \"a-link-normal s-underline-text s-underline-link-text s-link-style a-text-normal\"})"
   ]
  },
  {
   "cell_type": "code",
   "execution_count": 9,
   "id": "f47d9d1b",
   "metadata": {},
   "outputs": [],
   "source": [
    "# Creat empty list to store all the links\n",
    "\n",
    "links_list = []\n",
    "    \n",
    "for link in links:\n",
    "    links_list.append(link.get('href'))  "
   ]
  },
  {
   "cell_type": "code",
   "execution_count": 15,
   "id": "949519ae",
   "metadata": {},
   "outputs": [
    {
     "name": "stdout",
     "output_type": "stream",
     "text": [
      "{'title': [], 'price': [], 'rating': [], 'availability': [], 'date': []}\n"
     ]
    }
   ],
   "source": [
    "# Initialising the headers\n",
    "\n",
    "d = {\"title\":[], \"price\":[], \"rating\":[], \"availability\":[], \"date\":[]}\n",
    "print(d)"
   ]
  },
  {
   "cell_type": "code",
   "execution_count": 12,
   "id": "bcee1555",
   "metadata": {},
   "outputs": [
    {
     "name": "stdout",
     "output_type": "stream",
     "text": [
      "2023-05-21\n"
     ]
    }
   ],
   "source": [
    "# Date of the data imported\n",
    "\n",
    "import datetime\n",
    "today = datetime.date.today()\n",
    "print(today)"
   ]
  },
  {
   "cell_type": "code",
   "execution_count": 16,
   "id": "c3ed9ce2",
   "metadata": {},
   "outputs": [
    {
     "name": "stdout",
     "output_type": "stream",
     "text": [
      "                                       title   price rating   availability  \\\n",
      "0            Apple iPhone 14 (128 GB) - Blue  69,999    4.5       In stock   \n",
      "1    Apple iPhone 13 (128GB) - (Product) RED  62,999    4.6       In stock   \n",
      "2        Apple iPhone 14 (128 GB) - Midnight  69,999    4.5       In stock   \n",
      "3       Apple iPhone 14 (128 GB) - Starlight  69,999    4.5       In stock   \n",
      "4            Apple iPhone 14 (128 GB) - Blue  69,999    4.5       In stock   \n",
      "5          Apple iPhone 14 (128 GB) - Purple  69,999    4.5       In stock   \n",
      "6          Apple iPhone 14 (128 GB) - Yellow  69,999    4.5       In stock   \n",
      "7       Apple iPhone 14 (256 GB) - Starlight  79,999    4.5       In stock   \n",
      "8          Apple iPhone 14 (256 GB) - Yellow  79,999    4.5       In stock   \n",
      "9   Apple iPhone 14 (128 GB) - (Product) RED  69,999    4.5       In stock   \n",
      "10           Apple iPhone 14 (256 GB) - Blue  79,999    4.5  Not_avalaible   \n",
      "11         Apple iPhone 14 (256 GB) - Purple  79,999    4.5       In stock   \n",
      "12      Apple iPhone 14 (512 GB) - Starlight  97,999    4.5       In stock   \n",
      "13           Apple iPhone 14 (512 GB) - Blue  97,999    4.5       In stock   \n",
      "14       Apple iPhone 14 (256 GB) - Midnight  79,999    4.5       In stock   \n",
      "15  Apple iPhone 14 (256 GB) - (Product) RED  79,999    4.5       In stock   \n",
      "16       Apple iPhone 14 (512 GB) - Midnight  97,999    4.5       In stock   \n",
      "17         Apple iPhone 14 (512 GB) - Purple  97,999    4.5       In stock   \n",
      "\n",
      "          date  \n",
      "0   2023-05-21  \n",
      "1   2023-05-21  \n",
      "2   2023-05-21  \n",
      "3   2023-05-21  \n",
      "4   2023-05-21  \n",
      "5   2023-05-21  \n",
      "6   2023-05-21  \n",
      "7   2023-05-21  \n",
      "8   2023-05-21  \n",
      "9   2023-05-21  \n",
      "10  2023-05-21  \n",
      "11  2023-05-21  \n",
      "12  2023-05-21  \n",
      "13  2023-05-21  \n",
      "14  2023-05-21  \n",
      "15  2023-05-21  \n",
      "16  2023-05-21  \n",
      "17  2023-05-21  \n"
     ]
    }
   ],
   "source": [
    "# Creating a new_soup looping product details from each link\n",
    "\n",
    "for link in links_list:\n",
    "\n",
    "    new_webpage = requests.get(\"https://www.amazon.in/\" + link, headers = HEADERS)\n",
    "    new_soup = BeautifulSoup(new_webpage.content, 'html.parser')\n",
    "    \n",
    "    d['title'].append(get_title(new_soup))\n",
    "    d['price'].append(get_price(new_soup))\n",
    "    d['rating'].append(get_rating(new_soup))\n",
    "    d['availability'].append(get_avail(new_soup))\n",
    "    d['date'].append(today)\n",
    "    \n",
    "\n",
    "# Creating a DataFrame and storing information into the .csv file\n",
    "amazon_df = pd.DataFrame.from_dict(d)\n",
    "amazon_df.to_csv(\"iphone.csv\", header = True, index = False)\n",
    "print(amazon_df)"
   ]
  },
  {
   "cell_type": "code",
   "execution_count": null,
   "id": "e824f342",
   "metadata": {},
   "outputs": [],
   "source": []
  }
 ],
 "metadata": {
  "kernelspec": {
   "display_name": "Python 3",
   "language": "python",
   "name": "python3"
  },
  "language_info": {
   "codemirror_mode": {
    "name": "ipython",
    "version": 3
   },
   "file_extension": ".py",
   "mimetype": "text/x-python",
   "name": "python",
   "nbconvert_exporter": "python",
   "pygments_lexer": "ipython3",
   "version": "3.8.8"
  }
 },
 "nbformat": 4,
 "nbformat_minor": 5
}
